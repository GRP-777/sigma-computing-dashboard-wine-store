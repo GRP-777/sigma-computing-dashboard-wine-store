{
 "cells": [
  {
   "cell_type": "code",
   "execution_count": 1,
   "id": "de8ca764",
   "metadata": {},
   "outputs": [],
   "source": [
    "import pandas as pd"
   ]
  },
  {
   "cell_type": "code",
   "execution_count": 2,
   "id": "1b2164e6",
   "metadata": {},
   "outputs": [],
   "source": [
    "df_sales = pd.read_csv(\"SalesFINAL12312016.csv\")\n",
    "df_begining_inventory = pd.read_csv(\"BegInvFINAL12312016.csv\")\n",
    "df_end_inventory = pd.read_csv(\"EndInvFINAL12312016.csv\")\n",
    "df_invoice_purchases = pd.read_csv(\"InvoicePurchases12312016.csv\")\n",
    "df_purchases_final = pd.read_csv(\"PurchasesFINAL12312016.csv\")\n",
    "df_purchase_prices_dec = pd.read_csv(\"2017PurchasePricesDec.csv\")"
   ]
  },
  {
   "cell_type": "code",
   "execution_count": 3,
   "id": "ca4b34a6",
   "metadata": {},
   "outputs": [],
   "source": [
    "# df_sales.info()\n",
    "# df_begining_inventory.info()\n",
    "# df_end_inventory.info()\n",
    "# df_invoice_purchases.info()\n",
    "# df_purchases_final.info()\n",
    "# df_purchase_prices_dec.info()"
   ]
  },
  {
   "cell_type": "code",
   "execution_count": 4,
   "id": "39ee6ca7",
   "metadata": {},
   "outputs": [],
   "source": [
    "# df_sales.head()\n",
    "# df_begining_inventory.head()\n",
    "# df_end_inventory.head()\n",
    "# df_invoice_purchases.head()\n",
    "# df_purchases_final.head()\n",
    "# df_purchase_prices_dec.head()"
   ]
  },
  {
   "cell_type": "code",
   "execution_count": 5,
   "id": "810dd26a",
   "metadata": {},
   "outputs": [
    {
     "data": {
      "text/plain": [
       "2151"
      ]
     },
     "execution_count": 5,
     "metadata": {},
     "output_type": "execute_result"
    }
   ],
   "source": [
    "len(df_purchases_final['Description'].unique())\n",
    "len(df_purchases_final['PurchasePrice'].unique())"
   ]
  },
  {
   "cell_type": "code",
   "execution_count": 6,
   "id": "80ca8786",
   "metadata": {},
   "outputs": [],
   "source": [
    "# Getting PurchasePrice for purchases_final\n",
    "\n",
    "# Select the specified columns\n",
    "subset_df_purchases = df_purchases_final[['Description', 'Size', 'Brand', 'PurchasePrice']]\n",
    "\n",
    "# Get the distinct rows\n",
    "distinct_combinations_purchases = subset_df_purchases.drop_duplicates()\n"
   ]
  },
  {
   "cell_type": "code",
   "execution_count": 7,
   "id": "1324dee5",
   "metadata": {},
   "outputs": [],
   "source": [
    "# Getting SalesPrice for df_sales\n",
    "\n",
    "# Select the specified columns\n",
    "subset_df_purchases = df_sales[['Description', 'Size', 'Brand', 'SalesPrice', 'SalesQuantity']]\n",
    "\n",
    "# Get the distinct rows\n",
    "distinct_combinations_sales = subset_df_purchases.drop_duplicates()"
   ]
  },
  {
   "cell_type": "code",
   "execution_count": 8,
   "id": "6145cf03",
   "metadata": {},
   "outputs": [
    {
     "name": "stdout",
     "output_type": "stream",
     "text": [
      "                                           PurchasePrice  SalesPrice  \\\n",
      "Brand Description                  Size                                \n",
      "58    Gekkeikan Black & Gold Sake  750mL            9.28       12.08   \n",
      "60    Canadian Club 1858 VAP       750mL            7.40       10.61   \n",
      "61    Margaritaville Silver        750mL           10.60       13.99   \n",
      "62    Herradura Silver Tequila     750mL           28.67       39.49   \n",
      "63    Herradura Reposado Tequila   750mL           30.46       41.13   \n",
      "...                                                  ...         ...   \n",
      "90089 Ch Lynch Bages 12 Pauillac   750mL           77.92      119.99   \n",
      "90090 Ch Lafite Rothschild 12      750mL          448.27      649.99   \n",
      "90604 Ch Lynch Bages Pauilac       750mL           78.42      119.99   \n",
      "90609 Flavor Essence Variety 5 Pak 5/2 oz          17.00       24.99   \n",
      "90631 Luxardo Maraschino Cherries  400mL           12.74       18.99   \n",
      "\n",
      "                                           SalesQuantity  \n",
      "Brand Description                  Size                   \n",
      "58    Gekkeikan Black & Gold Sake  750mL            8.68  \n",
      "60    Canadian Club 1858 VAP       750mL           10.41  \n",
      "61    Margaritaville Silver        750mL           12.00  \n",
      "62    Herradura Silver Tequila     750mL            4.79  \n",
      "63    Herradura Reposado Tequila   750mL            4.93  \n",
      "...                                                  ...  \n",
      "90089 Ch Lynch Bages 12 Pauillac   750mL            7.55  \n",
      "90090 Ch Lafite Rothschild 12      750mL            2.50  \n",
      "90604 Ch Lynch Bages Pauilac       750mL            6.00  \n",
      "90609 Flavor Essence Variety 5 Pak 5/2 oz           3.00  \n",
      "90631 Luxardo Maraschino Cherries  400mL            7.20  \n",
      "\n",
      "[10487 rows x 3 columns]\n"
     ]
    }
   ],
   "source": [
    "# Merge based on product identifiers\n",
    "df_merged = pd.merge(distinct_combinations_purchases, distinct_combinations_sales, on = ['Brand', 'Description', 'Size'], how='inner')\n",
    "\n",
    "grouped_mean = df_merged.groupby(['Brand', 'Description', 'Size']).mean().round(2)\n",
    "\n",
    "print(grouped_mean)"
   ]
  },
  {
   "cell_type": "code",
   "execution_count": 9,
   "id": "6e300cbd",
   "metadata": {},
   "outputs": [],
   "source": [
    "grouped_mean.to_csv('profit_margin_annies_numbers.csv', index = True)"
   ]
  }
 ],
 "metadata": {
  "kernelspec": {
   "display_name": "Python 3",
   "language": "python",
   "name": "python3"
  },
  "language_info": {
   "codemirror_mode": {
    "name": "ipython",
    "version": 3
   },
   "file_extension": ".py",
   "mimetype": "text/x-python",
   "name": "python",
   "nbconvert_exporter": "python",
   "pygments_lexer": "ipython3",
   "version": "3.11.3"
  }
 },
 "nbformat": 4,
 "nbformat_minor": 5
}
